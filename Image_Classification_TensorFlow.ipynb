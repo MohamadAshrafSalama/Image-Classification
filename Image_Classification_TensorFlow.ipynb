{
  "cells": [
    {
      "cell_type": "markdown",
      "metadata": {
        "id": "view-in-github",
        "colab_type": "text"
      },
      "source": [
        "<a href=\"https://colab.research.google.com/github/MohamadAshrafSalama/Image-Classification-/blob/main/Image_Classification_TensorFlow.ipynb\" target=\"_parent\"><img src=\"https://colab.research.google.com/assets/colab-badge.svg\" alt=\"Open In Colab\"/></a>"
      ]
    },
    {
      "cell_type": "code",
      "execution_count": null,
      "metadata": {
        "id": "fcE3QrFj3p0p"
      },
      "outputs": [],
      "source": [
        "import tensorflow as tf\n",
        "\n",
        "print('Using TensorFlow version', tf.__version__)\n",
        "tf.logging.set_verbosity(tf.logging.ERROR)"
      ]
    },
    {
      "cell_type": "code",
      "execution_count": null,
      "metadata": {
        "id": "kT6jko253p0q"
      },
      "outputs": [],
      "source": [
        "from tensorflow.keras.datasets import mnist\n",
        "\n",
        "(x_train, y_train), (x_test, y_test) = mnist.load_data()"
      ]
    },
    {
      "cell_type": "code",
      "execution_count": null,
      "metadata": {
        "id": "cIMEs31p3p0r"
      },
      "outputs": [],
      "source": [
        "print('x_train shape: ', x_train.shape)\n",
        "print('y_train shape: ', y_train.shape)\n",
        "print('x_test shape: ', x_test.shape)\n",
        "print('y_test shape: ', y_test.shape)"
      ]
    },
    {
      "cell_type": "code",
      "execution_count": null,
      "metadata": {
        "id": "UvVYY5GZ3p0s"
      },
      "outputs": [],
      "source": [
        "import matplotlib.pyplot as plt\n",
        "%matplotlib inline\n",
        "\n",
        "plt.imshow(x_train[0], cmap = 'binary')\n",
        "plt.show()"
      ]
    },
    {
      "cell_type": "code",
      "execution_count": null,
      "metadata": {
        "id": "6Fk9_9By3p0s"
      },
      "outputs": [],
      "source": [
        "y_train[0]"
      ]
    },
    {
      "cell_type": "code",
      "execution_count": null,
      "metadata": {
        "id": "_FnJCdIy3p0s"
      },
      "outputs": [],
      "source": [
        "y_train[:10]"
      ]
    },
    {
      "cell_type": "code",
      "execution_count": null,
      "metadata": {
        "id": "rh5pNYYl3p0t"
      },
      "outputs": [],
      "source": [
        "from tensorflow.python.keras.utils import to_categorical\n",
        "\n",
        "y_train_encoded = to_categorical(y_train)\n",
        "y_test_encoded = to_categorical(y_test)"
      ]
    },
    {
      "cell_type": "code",
      "execution_count": null,
      "metadata": {
        "id": "M2f7PLe43p0u"
      },
      "outputs": [],
      "source": [
        "print('y_train shape: ', y_train_encoded.shape)\n",
        "print('y_test shape: ', y_test_encoded.shape)"
      ]
    },
    {
      "cell_type": "code",
      "execution_count": null,
      "metadata": {
        "id": "59V3iXH_3p0v"
      },
      "outputs": [],
      "source": [
        "y_train_encoded[0]"
      ]
    },
    {
      "cell_type": "code",
      "execution_count": null,
      "metadata": {
        "id": "bqR91mSA3p0w"
      },
      "outputs": [],
      "source": [
        "import numpy as np\n",
        "\n",
        "x_train_reshaped = np.reshape(x_train, (60000, 784))\n",
        "x_test_reshaped = np.reshape(x_test, (10000, 784))\n",
        "\n",
        "print('x_train_reshaped shape: ', x_train_reshaped.shape)\n",
        "print('x_test_reshaped shape: ', x_test_reshaped.shape)"
      ]
    },
    {
      "cell_type": "code",
      "execution_count": null,
      "metadata": {
        "id": "vQfXKZ4P3p0x"
      },
      "outputs": [],
      "source": [
        "print(set(x_train_reshaped[0]))"
      ]
    },
    {
      "cell_type": "code",
      "execution_count": null,
      "metadata": {
        "id": "QqxGM5Gn3p0y"
      },
      "outputs": [],
      "source": [
        "x_mean = np.mean(x_train_reshaped)\n",
        "x_std = np.std(x_train_reshaped)\n",
        "\n",
        "print('mean: ', x_mean)\n",
        "print('std: ', x_std)"
      ]
    },
    {
      "cell_type": "code",
      "execution_count": null,
      "metadata": {
        "id": "1MXUQs0Y3p0z"
      },
      "outputs": [],
      "source": [
        "epsilon = 1e-10\n",
        "x_train_norm = (x_train_reshaped - x_mean)/(x_std + epsilon)\n",
        "x_test_norm = (x_test_reshaped - x_mean)/(x_std + epsilon)"
      ]
    },
    {
      "cell_type": "code",
      "execution_count": null,
      "metadata": {
        "id": "d8Kr8Mz93p00"
      },
      "outputs": [],
      "source": [
        "print(set(x_train_norm[0]))"
      ]
    },
    {
      "cell_type": "code",
      "execution_count": null,
      "metadata": {
        "id": "aqF3kfrP3p00"
      },
      "outputs": [],
      "source": [
        "from tensorflow.keras.models import Sequential\n",
        "from tensorflow.keras.layers import Dense\n",
        "\n",
        "model = Sequential([\n",
        "    Dense(128, activation = 'relu', input_shape = (784,)),\n",
        "    Dense(128, activation = 'relu'),\n",
        "    Dense(10, activation = 'softmax')\n",
        "])"
      ]
    },
    {
      "cell_type": "code",
      "execution_count": null,
      "metadata": {
        "id": "aLqvVA303p01"
      },
      "outputs": [],
      "source": [
        "model.compile(\n",
        "    optimizer = 'sgd',\n",
        "    loss = 'categorical_crossentropy',\n",
        "    metrics = ['accuracy']\n",
        ")\n",
        "\n",
        "model.summary()"
      ]
    },
    {
      "cell_type": "code",
      "execution_count": null,
      "metadata": {
        "id": "LeBIICLM3p02"
      },
      "outputs": [],
      "source": [
        "h = model.fit(\n",
        "    x_train_norm,\n",
        "    y_train_encoded,\n",
        "    epochs = 3\n",
        ")"
      ]
    },
    {
      "cell_type": "code",
      "execution_count": null,
      "metadata": {
        "id": "CnlO_ycX3p02"
      },
      "outputs": [],
      "source": [
        "loss, accuracy = model.evaluate(x_test_norm, y_test_encoded)\n",
        "\n",
        "print('test set accuracy: ', accuracy * 100)"
      ]
    },
    {
      "cell_type": "code",
      "execution_count": null,
      "metadata": {
        "id": "wV2EW7qP3p03"
      },
      "outputs": [],
      "source": [
        "preds = model.predict(x_test_norm)\n",
        "\n",
        "print('shape of preds: ', preds.shape)"
      ]
    },
    {
      "cell_type": "code",
      "execution_count": null,
      "metadata": {
        "id": "Pz-XyBxQ3p03"
      },
      "outputs": [],
      "source": [
        "plt.figure(figsize = (12, 12))\n",
        "\n",
        "start_index = 0\n",
        "\n",
        "for i in range(25):\n",
        "    plt.subplot(5, 5, i + 1)\n",
        "    plt.grid(False)\n",
        "    plt.xticks([])\n",
        "    plt.yticks([])\n",
        "    pred = np.argmax(preds[start_index + i])\n",
        "    actual = np.argmax(y_test_encoded[start_index + i])\n",
        "    col = 'g'\n",
        "    if pred != actual:\n",
        "        col = 'r'\n",
        "    plt.xlabel('i={} | pred={} | true={}'.format(start_index + i, pred, actual), color = col)\n",
        "    plt.imshow(x_test[start_index + i], cmap='binary')\n",
        "plt.show()"
      ]
    },
    {
      "cell_type": "code",
      "execution_count": null,
      "metadata": {
        "id": "JP5jnp743p04"
      },
      "outputs": [],
      "source": [
        "\"\"\"\n",
        "Enter the index value in place of the value 8 below for the prediction\n",
        "that you want to plot the probability scores for\n",
        "\"\"\"\n",
        "index = 8\n",
        "\n",
        "plt.plot(preds[index])\n",
        "plt.show()"
      ]
    },
    {
      "cell_type": "markdown",
      "metadata": {
        "id": "7GJnSyOj3p04"
      },
      "source": [
        ""
      ]
    }
  ],
  "metadata": {
    "kernelspec": {
      "display_name": "Python 3",
      "language": "python",
      "name": "python3"
    },
    "language_info": {
      "codemirror_mode": {
        "name": "ipython",
        "version": 3
      },
      "file_extension": ".py",
      "mimetype": "text/x-python",
      "name": "python",
      "nbconvert_exporter": "python",
      "pygments_lexer": "ipython3",
      "version": "3.6.8"
    },
    "colab": {
      "name": "Image Classification TensorFlow.ipynb",
      "provenance": [],
      "collapsed_sections": [],
      "include_colab_link": true
    }
  },
  "nbformat": 4,
  "nbformat_minor": 0
}